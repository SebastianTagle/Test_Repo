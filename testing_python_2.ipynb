{
  "nbformat": 4,
  "nbformat_minor": 0,
  "metadata": {
    "colab": {
      "provenance": [],
      "authorship_tag": "ABX9TyO09Emr1wBRMaW6f/526I82",
      "include_colab_link": true
    },
    "kernelspec": {
      "name": "python3",
      "display_name": "Python 3"
    },
    "language_info": {
      "name": "python"
    }
  },
  "cells": [
    {
      "cell_type": "markdown",
      "metadata": {
        "id": "view-in-github",
        "colab_type": "text"
      },
      "source": [
        "<a href=\"https://colab.research.google.com/github/SebastianTagle/Test_Repo/blob/main/testing_python_2.ipynb\" target=\"_parent\"><img src=\"https://colab.research.google.com/assets/colab-badge.svg\" alt=\"Open In Colab\"/></a>"
      ]
    },
    {
      "cell_type": "code",
      "execution_count": null,
      "metadata": {
        "colab": {
          "base_uri": "https://localhost:8080/"
        },
        "id": "OraxqSj28NfV",
        "outputId": "6c26fcd5-f0a2-4fa6-f38b-ca5a4eff71e1"
      },
      "outputs": [
        {
          "output_type": "stream",
          "name": "stdout",
          "text": [
            "['sebastian', 36, 'paula', 35]\n"
          ]
        }
      ],
      "source": [
        "mylist= [\"sebastian\",36,\"paula\",35]\n",
        "print(mylist)"
      ]
    },
    {
      "cell_type": "code",
      "source": [
        "mylist= [\"sebastian\",36,\"paula\",35]\n",
        "mylist.append([\"Blanca\",7])\n",
        "print(mylist)\n"
      ],
      "metadata": {
        "colab": {
          "base_uri": "https://localhost:8080/"
        },
        "id": "zHv1_3IY8ua7",
        "outputId": "2e808fe1-d985-45ee-90be-b007ef1f3e8c"
      },
      "execution_count": null,
      "outputs": [
        {
          "output_type": "stream",
          "name": "stdout",
          "text": [
            "['sebastian', 36, 'paula', 35, ['Blanca', 7]]\n"
          ]
        }
      ]
    },
    {
      "cell_type": "code",
      "source": [
        "# you need to add or \"call\" the function before you start to used it\n",
        "import random\n",
        "\n",
        "choice = input(\"Make your choice: paper, rock or scissor :\")\n",
        "alternative =[\"r\", \"p\",\"s\"]\n",
        "pc = random.choice(alternative)\n",
        "print(pc)\n",
        "\n",
        "if choice == pc:\n",
        "  print(\"choose again\")\n",
        "if choice == \"r\" and pc == \"p\":\n",
        "  print(\"you loose\")\n",
        "if choice == \"r\" and pc == \"s\":\n",
        "  print(\"you win\")\n",
        "if choice == \"p\" and pc == \"r\":\n",
        "  print(\"you win\")\n",
        "if choice == \"p\" and pc == \"s\":\n",
        "  print(\"you loose\")\n",
        "if choice == \"s\" and pc == \"r\":\n",
        "  print(\"you loose\")\n",
        "if choice == \"s\" and pc == \"p\":\n",
        "  print(\"you win\")"
      ],
      "metadata": {
        "colab": {
          "base_uri": "https://localhost:8080/"
        },
        "id": "epQdvn839xLh",
        "outputId": "30390fec-2272-4b73-baa8-f68a8fe0fd85"
      },
      "execution_count": null,
      "outputs": [
        {
          "output_type": "stream",
          "name": "stdout",
          "text": [
            "Make your choice: paper, rock or scissor :s\n",
            "p\n",
            "you win\n"
          ]
        }
      ]
    },
    {
      "cell_type": "code",
      "source": [
        "for x in range(5):\n",
        "  print(x)\n"
      ],
      "metadata": {
        "colab": {
          "base_uri": "https://localhost:8080/"
        },
        "id": "Sxf8pgJ5C3NI",
        "outputId": "3b116e0d-3b53-41d8-d902-e1179a255f30"
      },
      "execution_count": null,
      "outputs": [
        {
          "output_type": "stream",
          "name": "stdout",
          "text": [
            "0\n",
            "1\n",
            "2\n",
            "3\n",
            "4\n"
          ]
        }
      ]
    },
    {
      "cell_type": "code",
      "source": [
        "word =\"Sebastian\"\n",
        "for letter in word:\n",
        "  print(letter)\n"
      ],
      "metadata": {
        "colab": {
          "base_uri": "https://localhost:8080/"
        },
        "id": "A6B60c9gDIJP",
        "outputId": "14725d1f-d3df-42d0-947f-6514472e1a31"
      },
      "execution_count": null,
      "outputs": [
        {
          "output_type": "stream",
          "name": "stdout",
          "text": [
            "S\n",
            "e\n",
            "b\n",
            "a\n",
            "s\n",
            "t\n",
            "i\n",
            "a\n",
            "n\n"
          ]
        }
      ]
    },
    {
      "cell_type": "code",
      "source": [
        "zoo= [\"dog\",\"cat\",\"bull\"]\n",
        "for animal in zoo:\n",
        "  print(animal)"
      ],
      "metadata": {
        "colab": {
          "base_uri": "https://localhost:8080/"
        },
        "id": "R19FGIYIDWrC",
        "outputId": "8e321e83-7e85-43db-c825-846db86682c1"
      },
      "execution_count": null,
      "outputs": [
        {
          "output_type": "stream",
          "name": "stdout",
          "text": [
            "dog\n",
            "cat\n",
            "bull\n"
          ]
        }
      ]
    },
    {
      "cell_type": "code",
      "source": [
        "number = int(input(\"How many Number: \"))\n",
        "x = 0\n",
        "while x <= number:\n",
        "  print(\"the number is :\"+str(x))\n",
        "  x= x+1\n",
        "  if number<x:\n",
        "    var = input(\"would you like to continue? \")\n",
        "    if var == \"y\":\n",
        "      number = int(input(\"How many new number: \"))\n",
        "    if var == \"n\":\n",
        "      print(\"we finish\")\n"
      ],
      "metadata": {
        "colab": {
          "base_uri": "https://localhost:8080/"
        },
        "id": "-zZ2YZ2KEWWA",
        "outputId": "c54661f4-24b7-4b23-a423-5c0fc1aeb08e"
      },
      "execution_count": null,
      "outputs": [
        {
          "output_type": "stream",
          "name": "stdout",
          "text": [
            "How many Number: 5\n",
            "the number is :0\n",
            "the number is :1\n",
            "the number is :2\n",
            "the number is :3\n",
            "the number is :4\n",
            "the number is :5\n",
            "would you like to continue? n\n",
            "we finish\n"
          ]
        }
      ]
    },
    {
      "cell_type": "code",
      "source": [],
      "metadata": {
        "id": "1arLlPb9EWRi"
      },
      "execution_count": null,
      "outputs": []
    }
  ]
}